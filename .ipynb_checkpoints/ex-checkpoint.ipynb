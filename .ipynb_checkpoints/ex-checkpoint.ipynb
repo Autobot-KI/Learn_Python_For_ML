{
 "cells": [
  {
   "cell_type": "code",
   "execution_count": 17,
   "id": "7bf35445-adb4-4c2a-a63e-cbad5a284136",
   "metadata": {},
   "outputs": [
    {
     "name": "stdout",
     "output_type": "stream",
     "text": [
      "done\n"
     ]
    }
   ],
   "source": [
    "import pandas as pd\n",
    "import json, csv\n",
    "# result = []\n",
    "# with open('data_bpjs_indo.csv', 'r') as f:\n",
    "#     datas = f.read().split('\\n')[2:]\n",
    "\n",
    "# outRange = 0\n",
    "# for data in datas:\n",
    "#     data = data.split(',')\n",
    "#     try:\n",
    "#         if data[11] != '' and data[17] != '':\n",
    "#             result.append(\n",
    "#                 {'nama':data[3],\n",
    "#                 'nik':data[11],\n",
    "#                 'kk':data[17]}\n",
    "#             )\n",
    "#     except:\n",
    "#         outRange+=1\n",
    "#         print('Index out of range')\n",
    "#         continue\n",
    "# print('Total out of range : '+str((outRange)))\n",
    "# with open('bahan_registrasi_kartu_paket.json', 'w', encoding='utf-8') as f:\n",
    "#     json.dump(result, f, ensure_ascii=False, indent=4)\n",
    "\n",
    "# Convert Json To csv\n",
    "# result = []\n",
    "# with open('bahan_registrasi_kartu_paket.json', 'r') as f:\n",
    "#     for x in json.load(f)[:370]:\n",
    "#         print(x['nama'].replace('\"','')[0].lower())\n",
    "#         if x['nama'].replace('\"','')[0].lower() == \"r\":\n",
    "#             result.append(x)\n",
    "\n",
    "    \n",
    "# output = 'data.csv'\n",
    "\n",
    "# with open(output, \"w\") as saveFile:\n",
    "#     csvWriter = csv.writer(saveFile)\n",
    "#     x = 0\n",
    "#     for data in result:\n",
    "#         if x == 0:\n",
    "#             csvWriter.writerow(data.keys())\n",
    "#             x+=1\n",
    "#         csvWriter.writerow(data.values())\n",
    "\n",
    "# with open(output, \"r\") as f:\n",
    "#     data = str(f.read()).replace(\"\\n\\n\", \"\\n\")\n",
    "# with open(output, \"w\") as f:\n",
    "#     f.write(data)\n",
    "\n",
    "# with filter amount digit\n",
    "count = 0\n",
    "result = []\n",
    "with open('bahan_registrasi_kartu_paket.json', 'r') as f:\n",
    "    for x in json.load(f):\n",
    "        value = list(x.values())\n",
    "        nik, kk = value[1].replace('\"', ''), value[2].replace('\"', '')\n",
    "        if len(nik) == 16:\n",
    "            result.append(x)\n",
    "\n",
    "\n",
    "output = 'bahan_regist_kartu_revisi_1.csv'\n",
    "\n",
    "\n",
    "with open(output, \"w\") as saveFile:\n",
    "    csvWriter = csv.writer(saveFile)\n",
    "    x = 0\n",
    "    for data in result:\n",
    "        if x == 0:\n",
    "            csvWriter.writerow(data.keys())\n",
    "            x+=1\n",
    "        value = list(data.values())\n",
    "        resultNew = [value[0].replace('\"', ''), value[1].replace('\"', ''), value[2].replace('\"', '')]\n",
    "        csvWriter.writerow(resultNew)\n",
    "\n",
    "# with open(output, \"r\") as f:\n",
    "#     data = str(f.read()).replace(\"\\n\\n\", \"\\n\")\n",
    "# with open(output, \"w\") as f:\n",
    "#     f.write(data)\n",
    "print('done')"
   ]
  },
  {
   "cell_type": "code",
   "execution_count": null,
   "id": "a58a2492-1e5f-4af6-ad3e-d001afd8ba22",
   "metadata": {},
   "outputs": [],
   "source": []
  }
 ],
 "metadata": {
  "kernelspec": {
   "display_name": "Python 3",
   "language": "python",
   "name": "python3"
  },
  "language_info": {
   "codemirror_mode": {
    "name": "ipython",
    "version": 3
   },
   "file_extension": ".py",
   "mimetype": "text/x-python",
   "name": "python",
   "nbconvert_exporter": "python",
   "pygments_lexer": "ipython3",
   "version": "3.8.5"
  }
 },
 "nbformat": 4,
 "nbformat_minor": 5
}
