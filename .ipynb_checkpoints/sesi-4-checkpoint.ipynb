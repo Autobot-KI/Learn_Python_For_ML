{
 "cells": [
  {
   "cell_type": "code",
   "execution_count": 34,
   "id": "cb1a3918-a5c8-448d-b679-7af891f3bb36",
   "metadata": {},
   "outputs": [
    {
     "data": {
      "text/plain": [
       "LogisticRegression()"
      ]
     },
     "execution_count": 34,
     "metadata": {},
     "output_type": "execute_result"
    }
   ],
   "source": [
    "import pandas as pd\n",
    "from sklearn import linear_model\n",
    "from sklearn.preprocessing import StandardScaler\n",
    "from sklearn.model_selection import train_test_split\n",
    "\n",
    "data = pd.read_csv('Social_Network_Ads.csv')\n",
    "data = data.drop(columns=['User ID'])\n",
    "data = pd.get_dummies(data)\n",
    "x = data[[\"Age\", \"EstimatedSalary\", \"Gender_Female\", \"Gender_Male\"]]\n",
    "y = data[\"Purchased\"]\n",
    "model_LogicRegress = linear_model.LogisticRegression()\n",
    "\n",
    "# Meng scaled data agar berada pada skala yang sama/ normalisasi\n",
    "normalize = StandardScaler()\n",
    "normalize.fit(x)\n",
    "scaled_x = normalize.transform(x)\n",
    "\n",
    "# Untuk membuat dataframe dari data yang terlah di scaled\n",
    "scaled_x = pd.DataFrame(scaled_x, columns=x.columns)\n",
    "\n",
    "# Membagi data menjadi train, test menggunakan sklearn\n",
    "x_train, x_test, y_train, y_test = train_test_split(scaled_x, y, test_size=0.2, random_state=1)\n",
    "\n",
    "# latih menggunakan Logistic Regression\n",
    "model_LogicRegress.fit(x_train, y_train)\n",
    "\n",
    "if model_LogicRegress.score(x_test, y_test) > 0.75:\n",
    "    print(\"\"\"Hasil prediksi komputer mengenai ketertarikan pengunjung saat melihat iklan\n",
    "terhadap data yang di berikan sebesar :\"\"\")\n",
    "    print(str(100*(model_LogicRegress.score(x_test, y_test)))[0:2]+\"%\")\n",
    "else:\n",
    "    (\"\"\"Rata-rata pengunjung tidak tertarik saat melihat iklan\n",
    "     hasil prediksi ketertarikan pengunjung :\"\"\")\n",
    "    print(str(100*(model_LogicRegress.score(x_test, y_test)))[0:2]+\"%\")"
   ]
  },
  {
   "cell_type": "code",
   "execution_count": null,
   "id": "52f3274b-fd91-4697-948d-6f3d8f71a2cb",
   "metadata": {},
   "outputs": [],
   "source": []
  }
 ],
 "metadata": {
  "kernelspec": {
   "display_name": "Python 3",
   "language": "python",
   "name": "python3"
  },
  "language_info": {
   "codemirror_mode": {
    "name": "ipython",
    "version": 3
   },
   "file_extension": ".py",
   "mimetype": "text/x-python",
   "name": "python",
   "nbconvert_exporter": "python",
   "pygments_lexer": "ipython3",
   "version": "3.8.5"
  }
 },
 "nbformat": 4,
 "nbformat_minor": 5
}
