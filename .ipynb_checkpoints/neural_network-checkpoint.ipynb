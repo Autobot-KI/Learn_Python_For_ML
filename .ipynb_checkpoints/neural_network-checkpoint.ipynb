{
 "cells": [
  {
   "cell_type": "code",
   "execution_count": 5,
   "id": "9c754595-5f10-4b2e-af4b-9130d5f48b14",
   "metadata": {},
   "outputs": [],
   "source": [
    "'''\n",
    "Neural Network untuk klasifikasi gunting kertas batu\n",
    "Author : Nux xader A.K.A Satria Rahmat\n",
    "Write on : Python 3.x\n",
    "'''\n",
    "\n",
    "# Menyiapkan list path dataset\n",
    "import os\n",
    "\n",
    "def getPathImg(path):\n",
    "    result = []\n",
    "    for i in os.listdir(path):\n",
    "        for x in os.listdir(path+i):\n",
    "            result.append(path+i+\"/\"+x)\n",
    "    return result\n",
    "\n",
    "baseDir = \"rockpaperscissors/\"\n",
    "trainDir, valDir = getPathImg(baseDir+\"train/\"), getPathImg(baseDir+\"val/\")\n"
   ]
  },
  {
   "cell_type": "code",
   "execution_count": null,
   "id": "14316372-0953-4721-9496-3d081f672de4",
   "metadata": {},
   "outputs": [],
   "source": [
    "def preprocessing(path):\n",
    "    img = cv2.imread(path)\n",
    "    min_HSV = np.array([0, 60, 40], dtype = \"uint8\")\n",
    "    max_HSV = np.array([33, 255, 255], dtype = \"uint8\")\n",
    "    hsvImg = cv2.cvtColor(img, cv2.COLOR_BGR2HSV)\n",
    "    binaryImg = cv2.inRange(hsvImg, min_HSV, max_HSV)\n",
    "    masked = cv2.bitwise_and(img, img, mask=binaryImg)\n",
    "\n",
    "    result = cv2.cvtColor(masked, cv2.COLOR_BGR2GRAY)\n",
    "    result = cv2.resize(result, (img_width, img_height))\n",
    "    result = np.expand_dims(result, axis=2)\n",
    "    return result"
   ]
  },
  {
   "cell_type": "code",
   "execution_count": 3,
   "id": "3709fd9b-c888-41d4-8797-39437a6758f6",
   "metadata": {},
   "outputs": [
    {
     "ename": "NameError",
     "evalue": "name 'dirTrain' is not defined",
     "output_type": "error",
     "traceback": [
      "\u001b[0;31m---------------------------------------------------------------------------\u001b[0m",
      "\u001b[0;31mNameError\u001b[0m                                 Traceback (most recent call last)",
      "\u001b[0;32m<ipython-input-3-06d853fc168c>\u001b[0m in \u001b[0;36m<module>\u001b[0;34m\u001b[0m\n\u001b[1;32m      4\u001b[0m \u001b[0mindexTrain\u001b[0m \u001b[0;34m=\u001b[0m \u001b[0;34m[\u001b[0m\u001b[0;34m]\u001b[0m\u001b[0;34m\u001b[0m\u001b[0;34m\u001b[0m\u001b[0m\n\u001b[1;32m      5\u001b[0m \u001b[0;34m\u001b[0m\u001b[0m\n\u001b[0;32m----> 6\u001b[0;31m \u001b[0;32mfor\u001b[0m \u001b[0mdir\u001b[0m \u001b[0;32min\u001b[0m \u001b[0mdirTrain\u001b[0m\u001b[0;34m:\u001b[0m\u001b[0;34m\u001b[0m\u001b[0;34m\u001b[0m\u001b[0m\n\u001b[0m\u001b[1;32m      7\u001b[0m     \u001b[0;32mfor\u001b[0m \u001b[0mfile\u001b[0m \u001b[0;32min\u001b[0m \u001b[0mdir\u001b[0m\u001b[0;34m:\u001b[0m\u001b[0;34m\u001b[0m\u001b[0;34m\u001b[0m\u001b[0m\n\u001b[1;32m      8\u001b[0m         \u001b[0mprint\u001b[0m\u001b[0;34m(\u001b[0m\u001b[0mfile\u001b[0m\u001b[0;34m,\u001b[0m \u001b[0miTrain\u001b[0m\u001b[0;34m)\u001b[0m\u001b[0;34m\u001b[0m\u001b[0;34m\u001b[0m\u001b[0m\n",
      "\u001b[0;31mNameError\u001b[0m: name 'dirTrain' is not defined"
     ]
    }
   ],
   "source": [
    "# Menyiapkan list array dataset\n",
    "iTrain = 0\n",
    "fileTrain = []\n",
    "indexTrain = []\n",
    "\n",
    "for dir in dirTrain:\n",
    "    for file in dir:\n",
    "        print(file, iTrain)\n",
    "        newImage = preprocessing(file, iTrain)\n",
    "        fileTrain.append(newImage)\n",
    "        if iTrain == 0:\n",
    "            indexTrain.append([1,0,0])\n",
    "        elif iTrain == 1:\n",
    "            indexTrain.append([0,1,0])\n",
    "        elif iTrain == 2:\n",
    "            indexTrain.append([0, 0, 1])\n",
    "\n",
    "    iTrain+=1\n",
    "\n",
    "iVal = 0\n",
    "fileValidation = []\n",
    "indexValidation = []\n",
    "\n",
    "for dir in dirValidation:\n",
    "    for file in dir:\n",
    "        newImage = preprocessing(file, iVal)\n",
    "        fileValidation.append(newImage)\n",
    "        if iVal == 0:\n",
    "            indexValidation.append([1,0,0])\n",
    "        elif iVal == 1:\n",
    "            indexValidation.append([0,1,0])\n",
    "        elif iVal == 2:\n",
    "            indexValidation.append([0, 0, 1])\n",
    "    iVal += 1"
   ]
  }
 ],
 "metadata": {
  "kernelspec": {
   "display_name": "Python 3",
   "language": "python",
   "name": "python3"
  },
  "language_info": {
   "codemirror_mode": {
    "name": "ipython",
    "version": 3
   },
   "file_extension": ".py",
   "mimetype": "text/x-python",
   "name": "python",
   "nbconvert_exporter": "python",
   "pygments_lexer": "ipython3",
   "version": "3.8.5"
  }
 },
 "nbformat": 4,
 "nbformat_minor": 5
}
