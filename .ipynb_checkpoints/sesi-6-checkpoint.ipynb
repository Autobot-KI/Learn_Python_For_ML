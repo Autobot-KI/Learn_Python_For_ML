{
 "cells": [
  {
   "cell_type": "code",
   "execution_count": 12,
   "id": "34e901e2-065a-4109-8b0a-561086e8f454",
   "metadata": {},
   "outputs": [
    {
     "name": "stdout",
     "output_type": "stream",
     "text": [
      "0.9333333333333333\n",
      "0.8666666666666667\n"
     ]
    }
   ],
   "source": [
    "from sklearn import datasets\n",
    "from sklearn import tree\n",
    "from sklearn.decomposition import PCA\n",
    "from sklearn.model_selection import train_test_split\n",
    "\n",
    "# load datasests, dan bagi datasets\n",
    "data = datasets.load_iris()\n",
    "x = data.data\n",
    "y = data.target\n",
    "train_x, test_x, train_y, test_y = train_test_split(x, y, test_size=0.2)\n",
    "\n",
    "# membuat model Decicion Tree\n",
    "decicionTree = tree.DecisionTreeClassifier()\n",
    "\n",
    "# Get Score menggunakan decicion tree\n",
    "fsModel = decicionTree.fit(train_x, train_y)\n",
    "print(fsModel.score(test_x, test_y))\n",
    "\n",
    "# membuat model PCA dengan 4 principal component\n",
    "def pca(num):\n",
    "    return PCA(n_components=num)\n",
    "\n",
    "# menggunakan PCA dengan 4 principal component\n",
    "pca4 = pca(4)\n",
    "pca_attribut = pca4.fit_transform(train_x)\n",
    "# Get varian dari tiap attribut\n",
    "pca4.explained_variance_ratio_\n",
    "\n",
    "# Test PCA dengan 2 principal component\n",
    "pca2 = pca(2)\n",
    "train_x_pca = pca2.fit_transform(train_x)\n",
    "test_x_pca = pca2.fit_transform(test_x)\n",
    "\n",
    "ndModel = decicionTree.fit(train_x_pca, train_y)\n",
    "print(ndModel.score(test_x_pca, test_y))"
   ]
  },
  {
   "cell_type": "code",
   "execution_count": null,
   "id": "7f4576d2-dc0c-4e80-bb07-f75f690f9b82",
   "metadata": {},
   "outputs": [],
   "source": []
  }
 ],
 "metadata": {
  "kernelspec": {
   "display_name": "Python 3",
   "language": "python",
   "name": "python3"
  },
  "language_info": {
   "codemirror_mode": {
    "name": "ipython",
    "version": 3
   },
   "file_extension": ".py",
   "mimetype": "text/x-python",
   "name": "python",
   "nbconvert_exporter": "python",
   "pygments_lexer": "ipython3",
   "version": "3.8.5"
  }
 },
 "nbformat": 4,
 "nbformat_minor": 5
}
