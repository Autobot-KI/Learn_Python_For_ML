{
 "cells": [
  {
   "cell_type": "code",
   "execution_count": 17,
   "id": "fb46c885-8bba-41cd-968c-88e5cbc2af82",
   "metadata": {},
   "outputs": [
    {
     "data": {
      "text/plain": [
       "0.7559055118110236"
      ]
     },
     "execution_count": 17,
     "metadata": {},
     "output_type": "execute_result"
    }
   ],
   "source": [
    "import pandas as pd\n",
    "from sklearn.svm import SVC\n",
    "from sklearn.preprocessing import StandardScaler\n",
    "from sklearn.model_selection import train_test_split\n",
    "\n",
    "df = pd.read_csv('diabetes.csv')\n",
    "\n",
    "# Memisahkan atribut dan label\n",
    "x = df[df.columns[:8]]\n",
    "y = df['Outcome']\n",
    "\n",
    "# Ubah ke skala/nilai yang setara dengan skala\n",
    "scaler = StandardScaler()\n",
    "scaler.fit(x)\n",
    "x = scaler.transform(x)\n",
    "\n",
    "# Pisahkan data untuk train, test\n",
    "train_x, test_x, train_y, test_y = train_test_split(x, y, test_size=0.33, random_state=42)\n",
    "\n",
    "# Model ML\n",
    "svm = SVC()\n",
    "svm.fit(train_x, train_y)\n",
    "svm.score(test_x, test_y)"
   ]
  },
  {
   "cell_type": "code",
   "execution_count": null,
   "id": "8b24d71c-8389-4fc4-82d2-9f67eff81134",
   "metadata": {},
   "outputs": [],
   "source": []
  }
 ],
 "metadata": {
  "kernelspec": {
   "display_name": "Python 3",
   "language": "python",
   "name": "python3"
  },
  "language_info": {
   "codemirror_mode": {
    "name": "ipython",
    "version": 3
   },
   "file_extension": ".py",
   "mimetype": "text/x-python",
   "name": "python",
   "nbconvert_exporter": "python",
   "pygments_lexer": "ipython3",
   "version": "3.8.5"
  }
 },
 "nbformat": 4,
 "nbformat_minor": 5
}
