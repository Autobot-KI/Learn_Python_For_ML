{
 "cells": [
  {
   "cell_type": "code",
   "execution_count": 2,
   "id": "235ddd14-57de-4b2a-a4b7-171c68fa2405",
   "metadata": {},
   "outputs": [],
   "source": [
    "import numpy as np\n",
    "import pandas as pd\n",
    "import matplotlib.pyplot as plt\n",
    "from sklearn.linear_model import LinearRegression"
   ]
  },
  {
   "cell_type": "code",
   "execution_count": 3,
   "id": "f79be048-3e29-4f10-bfe3-381a6e1eb306",
   "metadata": {},
   "outputs": [
    {
     "data": {
      "text/html": [
       "<div>\n",
       "<style scoped>\n",
       "    .dataframe tbody tr th:only-of-type {\n",
       "        vertical-align: middle;\n",
       "    }\n",
       "\n",
       "    .dataframe tbody tr th {\n",
       "        vertical-align: top;\n",
       "    }\n",
       "\n",
       "    .dataframe thead th {\n",
       "        text-align: right;\n",
       "    }\n",
       "</style>\n",
       "<table border=\"1\" class=\"dataframe\">\n",
       "  <thead>\n",
       "    <tr style=\"text-align: right;\">\n",
       "      <th></th>\n",
       "      <th>diameter</th>\n",
       "      <th>harga</th>\n",
       "    </tr>\n",
       "  </thead>\n",
       "  <tbody>\n",
       "    <tr>\n",
       "      <th>0</th>\n",
       "      <td>6</td>\n",
       "      <td>7.0</td>\n",
       "    </tr>\n",
       "    <tr>\n",
       "      <th>1</th>\n",
       "      <td>8</td>\n",
       "      <td>9.0</td>\n",
       "    </tr>\n",
       "    <tr>\n",
       "      <th>2</th>\n",
       "      <td>10</td>\n",
       "      <td>13.0</td>\n",
       "    </tr>\n",
       "    <tr>\n",
       "      <th>3</th>\n",
       "      <td>14</td>\n",
       "      <td>17.5</td>\n",
       "    </tr>\n",
       "    <tr>\n",
       "      <th>4</th>\n",
       "      <td>18</td>\n",
       "      <td>18.0</td>\n",
       "    </tr>\n",
       "  </tbody>\n",
       "</table>\n",
       "</div>"
      ],
      "text/plain": [
       "   diameter  harga\n",
       "0         6    7.0\n",
       "1         8    9.0\n",
       "2        10   13.0\n",
       "3        14   17.5\n",
       "4        18   18.0"
      ]
     },
     "execution_count": 3,
     "metadata": {},
     "output_type": "execute_result"
    }
   ],
   "source": [
    "# create sample pandas dataframe\n",
    "pizza = {\n",
    "    \"diameter\": [6, 8, 10, 14, 18],\n",
    "    \"harga\": [7, 9, 13, 17.5, 18]\n",
    "}\n",
    "pizza_df = pd.DataFrame(pizza)\n",
    "pizza_df"
   ]
  },
  {
   "cell_type": "code",
   "execution_count": 4,
   "id": "1d6c93cb-9232-4aaf-bd11-c14a2ffa0e1d",
   "metadata": {},
   "outputs": [
    {
     "data": {
      "image/png": "[encoded data removed]",
      "text/plain": [
       "<Figure size 432x288 with 1 Axes>"
      ]
     },
     "metadata": {
      "needs_background": "light"
     },
     "output_type": "display_data"
    }
   ],
   "source": [
    "# visualisasi scatter plot dari pd dataframe\n",
    "# set axies x sebagai diameter dan axies y sebagai harga\n",
    "pizza_df.plot(kind=\"scatter\", x=\"diameter\", y=\"harga\")\n",
    "plt.title(\"Visualisasi harga pizza\")\n",
    "# set label axies x, y\n",
    "plt.xlabel(\"Diameter (inch)\")\n",
    "plt.ylabel(\"Harga ($USD)\")\n",
    "# set max num axies x, y\n",
    "plt.xlim(0 ,25)\n",
    "plt.ylim(0 ,25)\n",
    "# set grid ke True agar ada kotak\" ny\n",
    "plt.grid(True)\n",
    "plt.show()"
   ]
  },
  {
   "cell_type": "code",
   "execution_count": 5,
   "id": "349a9d82-ca09-4d44-b993-a2ec788b0189",
   "metadata": {},
   "outputs": [
    {
     "name": "stdout",
     "output_type": "stream",
     "text": [
      "Value x : [ 6  8 10 14 18]\n",
      "Value y : [ 7.   9.  13.  17.5 18. ]\n"
     ]
    }
   ],
   "source": [
    "'''\n",
    "Convert pd dataframe ke numpy array\n",
    "set var x sebagai diameter, var y sebagai harga\n",
    "Note x merupakan data yg akan di pljari sedgkn\n",
    "y adalah target yg di prediksi\n",
    "'''\n",
    "x = np.array(pizza_df[\"diameter\"])\n",
    "y = np.array(pizza_df[\"harga\"])\n",
    "print(f\"Value x : {x}\\nValue y : {y}\")"
   ]
  },
  {
   "cell_type": "code",
   "execution_count": 6,
   "id": "90b8eb0b-560c-4924-8163-9e786b0db4c0",
   "metadata": {},
   "outputs": [
    {
     "data": {
      "text/plain": [
       "array([[ 6],\n",
       "       [ 8],\n",
       "       [10],\n",
       "       [14],\n",
       "       [18]])"
      ]
     },
     "execution_count": 6,
     "metadata": {},
     "output_type": "execute_result"
    }
   ],
   "source": [
    "'''\n",
    "value x berisi array 1 dimensi\n",
    "sedangkan sklearn perlu array 2 dimensi\n",
    "jadi x harus di reshape agar jadi array 2 dimensi\n",
    "'''\n",
    "X = x.reshape(-1, 1)\n",
    "X"
   ]
  },
  {
   "cell_type": "code",
   "execution_count": 7,
   "id": "4b3ccf9d-fd29-42b6-9f17-0dda3fd28020",
   "metadata": {},
   "outputs": [
    {
     "data": {
      "text/plain": [
       "LinearRegression()"
      ]
     },
     "execution_count": 7,
     "metadata": {},
     "output_type": "execute_result"
    }
   ],
   "source": [
    "# membuat model ML Linear Reggression\n",
    "model = LinearRegression()\n",
    "# panggil method fit untuk melakukan training menggunakan model di atas\n",
    "model.fit(X, y)"
   ]
  },
  {
   "cell_type": "code",
   "execution_count": 8,
   "id": "2141adca-8e49-40de-aa29-c07476192b49",
   "metadata": {},
   "outputs": [
    {
     "data": {
      "image/png": "[encoded data removed]",
      "text/plain": [
       "<Figure size 432x288 with 1 Axes>"
      ]
     },
     "metadata": {
      "needs_background": "light"
     },
     "output_type": "display_data"
    }
   ],
   "source": [
    "'''\n",
    "memvisualisasi model regresi linear\n",
    "membuat var X_vis yang berisi array 2 dimensi dengan cara me reshape\n",
    "dengan parameter np.array => [0, 25] karena tadi max axies ny 25\n",
    "membuat var y_vis yang berisi hasil dari prediksi model\n",
    "'''\n",
    "X_vis = np.array([0, 25]).reshape(-1, 1)\n",
    "y_vis = model.predict(X_vis)\n",
    "\n",
    "'''\n",
    "Ploting hasil prediksi\n",
    "plt.plot() pada parameter terakhir berguna agar tercipda garis merah\n",
    "'''\n",
    "plt.scatter(X, y)\n",
    "plt.plot(X_vis, y_vis, '-r')\n",
    "\n",
    "plt.title(\"Visualisasi hasil prediksi Regresi linear\")\n",
    "plt.xlabel(\"Diameter (inch)\")\n",
    "plt.ylabel(\"Harga ($USD)\")\n",
    "# x, y lim sudah ada penjelasan saat awal visualisasi\n",
    "plt.xlim(0, 25)\n",
    "plt.ylim(0, 25)\n",
    "plt.grid(True)\n",
    "plt.show()"
   ]
  },
  {
   "cell_type": "code",
   "execution_count": null,
   "id": "de7b04f1-a868-43aa-9127-221f481ca10a",
   "metadata": {},
   "outputs": [],
   "source": []
  },
  {
   "cell_type": "code",
   "execution_count": 9,
   "id": "696fc75e-46d0-4f96-bcc4-b64a4dccb0d7",
   "metadata": {},
   "outputs": [
    {
     "data": {
      "text/plain": [
       "'\\nCara sklearn linear reggression mendapatkan nilai slope\\nslope(B) = cov(x*y)/var(x)\\n            |        |\\n       Co-varians  Varians\\nuntuk melakukan proses kalkulari covarians varians\\nnilai x hrus di kembalikan ke bentuk asal yaitu 1 dimensi\\ndengan cara x.faltten()\\n\\nCara sklearn linear reggression mendapatkan nilai intercept\\n=> intercept = np.mean(y) - slope * np.mean(X)\\n'"
      ]
     },
     "execution_count": 9,
     "metadata": {},
     "output_type": "execute_result"
    }
   ],
   "source": [
    "'''\n",
    "Formula Linear Regression\n",
    "############################\n",
    "# y = alpha(a) +slope(B)*x #\n",
    "############################\n",
    "y : response var\n",
    "x : explanatory var\n",
    "alpha(a) : intercept => titik pada sumbu y yg di tabrak garis linear\n",
    "slope(B) : slope => tingkat kemiringan garis regresi\n",
    "'''\n",
    "\n",
    "intercept = model.intercept_\n",
    "slope = model.coef_\n",
    "\n",
    "'''\n",
    "Cara sklearn linear reggression mendapatkan nilai slope\n",
    "slope(B) = cov(x*y)/var(x)\n",
    "            |        |\n",
    "       Co-varians  Varians\n",
    "untuk melakukan proses kalkulari covarians varians\n",
    "nilai x hrus di kembalikan ke bentuk asal yaitu 1 dimensi\n",
    "dengan cara x.faltten()\n",
    "\n",
    "Cara sklearn linear reggression mendapatkan nilai intercept\n",
    "=> intercept = np.mean(y) - slope * np.mean(X)\n",
    "'''"
   ]
  },
  {
   "cell_type": "code",
   "execution_count": 10,
   "id": "3630e6f0-33ac-4777-b30c-ad008deb70d5",
   "metadata": {},
   "outputs": [
    {
     "name": "stdout",
     "output_type": "stream",
     "text": [
      "Pizza dengan diameter 12 di prediksi memiliki harga 13.681034482758621\n",
      "Pizza dengan diameter 20 di prediksi memiliki harga 21.491379310344826\n",
      "Pizza dengan diameter 23 di prediksi memiliki harga 24.42025862068965\n",
      "Pizza dengan diameter 99 di prediksi memiliki harga 98.61853448275859\n"
     ]
    }
   ],
   "source": [
    "'''\n",
    "menggunakan model linear reggression\n",
    "untuk prediksi harga\n",
    "'''\n",
    "# membuat array 2 dimensi untuk ukuran pizza yg akan di prediski\n",
    "diameter_pizza = np.array([12, 20, 23, 99]).reshape(-1, 1)\n",
    "prediksi_harga = model.predict(diameter_pizza)\n",
    "for x, y in zip(diameter_pizza, prediksi_harga):\n",
    "    print(f\"Pizza dengan diameter {x[0]} di prediksi memiliki harga {y}\")"
   ]
  },
  {
   "cell_type": "code",
   "execution_count": 28,
   "id": "1576036c-fc3e-450f-94ad-cea44e5ba4b6",
   "metadata": {},
   "outputs": [
    {
     "name": "stdout",
     "output_type": "stream",
     "text": [
      "[[ 6]\n",
      " [ 8]\n",
      " [10]\n",
      " [14]\n",
      " [18]]\n",
      "[[ 8]\n",
      " [ 9]\n",
      " [11]\n",
      " [16]\n",
      " [12]]\n"
     ]
    }
   ],
   "source": [
    "# mendapatkan tingkat akurasi dari model regresi linear\n",
    "\n",
    "# Mengambil sample data awal untuk train\n",
    "x_train = np.array(pizza[\"diameter\"]).reshape(-1, 1)\n",
    "y_train = np.array(pizza[\"harga\"]).reshape(-1, 1)\n",
    "\n",
    "# Membuat data random seperti sample data pizza\n",
    "# yg bertujuan untuk pembanding akurasi model\n",
    "y_test = np.array([8, 9, 11, 16, 12]).reshape(-1, 1)\n",
    "x_test = np.array([11, 8.5, 15, 18, 11]).reshape(-1, 1)\n",
    "\n",
    "print(x_train)\n",
    "print(y_test)\n"
   ]
  },
  {
   "cell_type": "code",
   "execution_count": 29,
   "id": "9cfa95c6-3b7c-44e9-9c17-7795f1fd6f74",
   "metadata": {},
   "outputs": [
    {
     "data": {
      "text/plain": [
       "LinearRegression()"
      ]
     },
     "execution_count": 29,
     "metadata": {},
     "output_type": "execute_result"
    }
   ],
   "source": [
    "# membuat model yang akan melihat akurasi model sebelumnya\n",
    "model = LinearRegression()\n",
    "model.fit(x_train, y_train)"
   ]
  },
  {
   "cell_type": "code",
   "execution_count": 30,
   "id": "64c1c811-bc99-4279-b1e6-4fa1aea9c833",
   "metadata": {},
   "outputs": [
    {
     "name": "stdout",
     "output_type": "stream",
     "text": [
      "Akurasi mode : -0.7583288413956275\n"
     ]
    }
   ],
   "source": [
    "# mengimport r2_score algoritma untuk mendapatkan akurasi model\n",
    "from sklearn.metrics import r2_score\n",
    "y_pred = model.predict(x_test)\n",
    "r_squared = r2_score(y_test, y_pred)\n",
    "# Semakin dekat dengan 1 berarti model sempurna\n",
    "print(f\"Akurasi mode : {r_squared}\")"
   ]
  },
  {
   "cell_type": "code",
   "execution_count": null,
   "id": "41aa09e6-49c1-4c35-9577-40345a33900f",
   "metadata": {},
   "outputs": [],
   "source": []
  }
 ],
 "metadata": {
  "kernelspec": {
   "display_name": "Python 3",
   "language": "python",
   "name": "python3"
  },
  "language_info": {
   "codemirror_mode": {
    "name": "ipython",
    "version": 3
   },
   "file_extension": ".py",
   "mimetype": "text/x-python",
   "name": "python",
   "nbconvert_exporter": "python",
   "pygments_lexer": "ipython3",
   "version": "3.8.10"
  }
 },
 "nbformat": 4,
 "nbformat_minor": 5
}
