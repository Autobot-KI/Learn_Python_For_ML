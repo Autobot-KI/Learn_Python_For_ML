{
 "cells": [
  {
   "cell_type": "code",
   "execution_count": 48,
   "id": "722aeaef-0b1a-4e6c-aa76-807b118768bd",
   "metadata": {},
   "outputs": [],
   "source": [
    "# preprocessing lib\n",
    "from sklearn import preprocessing\n",
    "# Class training KNN\n",
    "from sklearn.neighbors import KNeighborsClassifier\n",
    "# Evaluasi model\n",
    "from sklearn import metrics\n",
    "# visal, create data\n",
    "import matplotlib.pyplot as plt\n",
    "import numpy as np\n",
    "import pandas as pd"
   ]
  },
  {
   "cell_type": "code",
   "execution_count": 79,
   "id": "1cd735a0-0eb7-44ac-b508-1a6542758d39",
   "metadata": {},
   "outputs": [
    {
     "data": {
      "text/html": [
       "<div>\n",
       "<style scoped>\n",
       "    .dataframe tbody tr th:only-of-type {\n",
       "        vertical-align: middle;\n",
       "    }\n",
       "\n",
       "    .dataframe tbody tr th {\n",
       "        vertical-align: top;\n",
       "    }\n",
       "\n",
       "    .dataframe thead th {\n",
       "        text-align: right;\n",
       "    }\n",
       "</style>\n",
       "<table border=\"1\" class=\"dataframe\">\n",
       "  <thead>\n",
       "    <tr style=\"text-align: right;\">\n",
       "      <th></th>\n",
       "      <th>Favorite Music Genre</th>\n",
       "      <th>Favorite Soft Drink</th>\n",
       "      <th>Gender</th>\n",
       "    </tr>\n",
       "  </thead>\n",
       "  <tbody>\n",
       "    <tr>\n",
       "      <th>0</th>\n",
       "      <td>6</td>\n",
       "      <td>0</td>\n",
       "      <td>F</td>\n",
       "    </tr>\n",
       "    <tr>\n",
       "      <th>1</th>\n",
       "      <td>2</td>\n",
       "      <td>1</td>\n",
       "      <td>F</td>\n",
       "    </tr>\n",
       "    <tr>\n",
       "      <th>2</th>\n",
       "      <td>6</td>\n",
       "      <td>1</td>\n",
       "      <td>F</td>\n",
       "    </tr>\n",
       "    <tr>\n",
       "      <th>3</th>\n",
       "      <td>1</td>\n",
       "      <td>2</td>\n",
       "      <td>F</td>\n",
       "    </tr>\n",
       "    <tr>\n",
       "      <th>4</th>\n",
       "      <td>6</td>\n",
       "      <td>1</td>\n",
       "      <td>F</td>\n",
       "    </tr>\n",
       "    <tr>\n",
       "      <th>...</th>\n",
       "      <td>...</td>\n",
       "      <td>...</td>\n",
       "      <td>...</td>\n",
       "    </tr>\n",
       "    <tr>\n",
       "      <th>61</th>\n",
       "      <td>6</td>\n",
       "      <td>1</td>\n",
       "      <td>M</td>\n",
       "    </tr>\n",
       "    <tr>\n",
       "      <th>62</th>\n",
       "      <td>2</td>\n",
       "      <td>1</td>\n",
       "      <td>M</td>\n",
       "    </tr>\n",
       "    <tr>\n",
       "      <th>63</th>\n",
       "      <td>2</td>\n",
       "      <td>2</td>\n",
       "      <td>M</td>\n",
       "    </tr>\n",
       "    <tr>\n",
       "      <th>64</th>\n",
       "      <td>6</td>\n",
       "      <td>1</td>\n",
       "      <td>M</td>\n",
       "    </tr>\n",
       "    <tr>\n",
       "      <th>65</th>\n",
       "      <td>0</td>\n",
       "      <td>1</td>\n",
       "      <td>M</td>\n",
       "    </tr>\n",
       "  </tbody>\n",
       "</table>\n",
       "<p>66 rows × 3 columns</p>\n",
       "</div>"
      ],
      "text/plain": [
       "    Favorite Music Genre  Favorite Soft Drink Gender\n",
       "0                      6                    0      F\n",
       "1                      2                    1      F\n",
       "2                      6                    1      F\n",
       "3                      1                    2      F\n",
       "4                      6                    1      F\n",
       "..                   ...                  ...    ...\n",
       "61                     6                    1      M\n",
       "62                     2                    1      M\n",
       "63                     2                    2      M\n",
       "64                     6                    1      M\n",
       "65                     0                    1      M\n",
       "\n",
       "[66 rows x 3 columns]"
      ]
     },
     "execution_count": 79,
     "metadata": {},
     "output_type": "execute_result"
    }
   ],
   "source": [
    "# load dataset\n",
    "# ubah fitur ke dlm bntuk integer\n",
    "gender_df = pd.read_csv('gender_class.csv')\n",
    "del gender_df[\"Favorite Beverage\"]\n",
    "del gender_df[\"Favorite Color\"]\n",
    "list_music = set(gender_df[\"Favorite Music Genre\"])\n",
    "list_drink = set(gender_df[\"Favorite Soft Drink\"])\n",
    "\n",
    "lbEncode = preprocessing.LabelEncoder()\n",
    "gender_df[\"Favorite Music Genre\"] = lbEncode.fit_transform(gender_df[\"Favorite Music Genre\"])\n",
    "gender_df[\"Favorite Soft Drink\"] = lbEncode.fit_transform(gender_df[\"Favorite Soft Drink\"])\n",
    "\n",
    "gender_df"
   ]
  },
  {
   "cell_type": "code",
   "execution_count": 80,
   "id": "a45eb505-ace4-4c29-b12e-75ff8e0b6423",
   "metadata": {},
   "outputs": [
    {
     "data": {
      "image/png": "[encoded data removed]",
      "text/plain": [
       "<Figure size 432x288 with 1 Axes>"
      ]
     },
     "metadata": {
      "needs_background": "light"
     },
     "output_type": "display_data"
    }
   ],
   "source": [
    "# Visualisasi dataframe\n",
    "fig, ax = plt.subplots()\n",
    "[ax.scatter(d[\"Favorite Music Genre\"], d[\"Favorite Soft Drink\"], label=gend) for gend, d in gender_df.groupby(\"Gender\")]\n",
    "plt.legend(loc=\"upper left\")\n",
    "plt.title(\"Visualisasi data gender, fav drink, fav music\")\n",
    "plt.xlabel(\"Favorite Music Genre\")\n",
    "plt.ylabel(\"Favorite Soft Drink\")\n",
    "plt.grid(True)\n",
    "plt.show()"
   ]
  },
  {
   "cell_type": "code",
   "execution_count": 81,
   "id": "9353b5ae-7fbb-4471-a580-83481fd25776",
   "metadata": {},
   "outputs": [
    {
     "name": "stdout",
     "output_type": "stream",
     "text": [
      "Hasil konversi gender ke binarisation y_train :\n",
      "[0 0 0 0 0 0 0 0 0 0 0 0 0 0 0 0 0 0 0 0 0 0 0 0 0 0 0 0 0 0 0 0 0 1 1 1 1\n",
      " 1 1 1 1 1 1 1 1 1 1 1 1 1 1 1 1 1 1 1 1 1 1 1 1 1 1 1 1 1]\n",
      "x_train:\n",
      "[[6 0]\n",
      " [2 1]\n",
      " [6 1]\n",
      " [1 2]\n",
      " [6 1]\n",
      " [3 2]\n",
      " [4 1]\n",
      " [4 2]\n",
      " [6 0]\n",
      " [4 1]\n",
      " [4 0]\n",
      " [4 0]\n",
      " [4 0]\n",
      " [0 1]\n",
      " [6 1]\n",
      " [3 1]\n",
      " [4 0]\n",
      " [6 1]\n",
      " [6 1]\n",
      " [4 0]\n",
      " [4 2]\n",
      " [3 2]\n",
      " [6 1]\n",
      " [4 1]\n",
      " [1 0]\n",
      " [5 1]\n",
      " [4 3]\n",
      " [4 3]\n",
      " [4 1]\n",
      " [0 2]\n",
      " [6 1]\n",
      " [6 1]\n",
      " [5 1]\n",
      " [5 3]\n",
      " [2 0]\n",
      " [0 1]\n",
      " [6 1]\n",
      " [4 2]\n",
      " [4 2]\n",
      " [6 0]\n",
      " [6 1]\n",
      " [4 0]\n",
      " [5 1]\n",
      " [6 0]\n",
      " [1 3]\n",
      " [2 1]\n",
      " [2 1]\n",
      " [5 0]\n",
      " [6 3]\n",
      " [2 1]\n",
      " [5 1]\n",
      " [6 1]\n",
      " [2 3]\n",
      " [6 2]\n",
      " [0 2]\n",
      " [0 2]\n",
      " [1 2]\n",
      " [0 2]\n",
      " [3 1]\n",
      " [4 3]\n",
      " [0 1]\n",
      " [6 1]\n",
      " [2 1]\n",
      " [2 2]\n",
      " [6 1]\n",
      " [0 1]]\n"
     ]
    }
   ],
   "source": [
    "# Preprocessing dataset\n",
    "x_train = np.array(gender_df[[\"Favorite Music Genre\", \"Favorite Soft Drink\"]])\n",
    "y_train = np.array(gender_df[\"Gender\"])\n",
    "\n",
    "# Konversi gender ke integer menggunakan LabelBinarizer\n",
    "lbz = preprocessing.LabelBinarizer()\n",
    "y_train = lbz.fit_transform(y_train)\n",
    "\n",
    "# karena hasil konversi array 2D hrus di flat dulu biar jadi 1D\n",
    "y_train = y_train.flatten()\n",
    "\n",
    "\n",
    "print(f\"Hasil konversi gender ke binarisation y_train :\\n{y_train}\\nx_train:\\n{x_train}\")"
   ]
  },
  {
   "cell_type": "code",
   "execution_count": 82,
   "id": "3742d616-685f-4845-9fe6-b787213f2192",
   "metadata": {},
   "outputs": [
    {
     "data": {
      "text/plain": [
       "KNeighborsClassifier()"
      ]
     },
     "execution_count": 82,
     "metadata": {},
     "output_type": "execute_result"
    }
   ],
   "source": [
    "# Training KNN Classification Model\n",
    "# nilai k untuk jumlah tetangga terdekat yang akan di libatkan untuk proses prediksi\n",
    "k = 5\n",
    "model = KNeighborsClassifier(n_neighbors=k)\n",
    "model.fit(x_train, y_train)"
   ]
  },
  {
   "cell_type": "code",
   "execution_count": 83,
   "id": "14d410eb-7b89-4f03-8ffa-3cdf9bee83f6",
   "metadata": {},
   "outputs": [
    {
     "name": "stdout",
     "output_type": "stream",
     "text": [
      "Music : {'Electronic', 'R&B and soul', 'Pop', 'Folk/Traditional', 'Hip hop', 'Jazz/Blues', 'Rock'}\n",
      "Drink : {'Other', 'Coca Cola/Pepsi', 'Fanta', '7UP/Sprite'}\n"
     ]
    }
   ],
   "source": [
    "print(f\"Music : {list_music}\\nDrink : {list_drink}\")"
   ]
  },
  {
   "cell_type": "code",
   "execution_count": 84,
   "id": "f3817a91-bc97-40dd-90ae-727138c5cde5",
   "metadata": {},
   "outputs": [
    {
     "data": {
      "text/plain": [
       "array([[0, 0]])"
      ]
     },
     "execution_count": 84,
     "metadata": {},
     "output_type": "execute_result"
    }
   ],
   "source": [
    "# konversi string menggunakan lableEncoder agar bisa di prediksi model\n",
    "music = lbEncode.fit_transform(np.array([\"Pop\"]))\n",
    "drink = lbEncode.fit_transform(np.array([\"7UP/Sprite\"]))\n",
    "x_new = np.array([music, drink]).reshape(1, -1)\n",
    "x_new"
   ]
  },
  {
   "cell_type": "code",
   "execution_count": 85,
   "id": "6c36c39a-a334-4d25-b489-a986304f923e",
   "metadata": {},
   "outputs": [
    {
     "data": {
      "text/plain": [
       "array(['M'], dtype='<U1')"
      ]
     },
     "execution_count": 85,
     "metadata": {},
     "output_type": "execute_result"
    }
   ],
   "source": [
    "# prediksi gender berdasarkan music dan minuman favorit\n",
    "y_new = model.predict(x_new)\n",
    "lbz.inverse_transform(y_new)"
   ]
  },
  {
   "cell_type": "code",
   "execution_count": 86,
   "id": "378f79a7-961d-4f00-bfc5-8a2d514d3069",
   "metadata": {},
   "outputs": [
    {
     "data": {
      "image/png": "[encoded data removed]",
      "text/plain": [
       "<Figure size 432x288 with 1 Axes>"
      ]
     },
     "metadata": {
      "needs_background": "light"
     },
     "output_type": "display_data"
    },
    {
     "data": {
      "text/plain": [
       "5"
      ]
     },
     "execution_count": 86,
     "metadata": {},
     "output_type": "execute_result"
    }
   ],
   "source": [
    "# Visualisasi Nearest Neighbours\n",
    "fig, ax = plt.subplots()\n",
    "[ax.scatter(d[\"Favorite Music Genre\"], d[\"Favorite Soft Drink\"], label=gend) for gend, d in gender_df.groupby(\"Gender\")]\n",
    "plt.scatter(\n",
    "    music,\n",
    "    drink,\n",
    "    marker='s', \n",
    "    color='red',\n",
    "    label='unknow'\n",
    ")\n",
    "plt.legend(loc=\"upper left\")\n",
    "plt.title(\"Visualisasi data gender, fav drink, fav music\")\n",
    "plt.xlabel('Fav music (Data ini telah di transform)')\n",
    "plt.ylabel('Fav Drink (Data ini telah di transform)')\n",
    "plt.grid(True)\n",
    "plt.show()\n",
    "'''\n",
    "Bisa di lihat pada titik unknow adalah gender yg di prediksi\n",
    "dan klau di lihat pada tetangga terdekatnya titik tersebut\n",
    "paling dekat dengan 2 wanita, 1 pria, maknya model\n",
    "memprediksi bahwa gender ny wanita\n",
    "'''\n",
    "k"
   ]
  },
  {
   "cell_type": "code",
   "execution_count": 110,
   "id": "770b5800-7f81-40ad-adc1-0a804688d65d",
   "metadata": {},
   "outputs": [
    {
     "name": "stdout",
     "output_type": "stream",
     "text": [
      "x_test : [[2 1]\n",
      " [4 3]\n",
      " [5 0]\n",
      " [5 1]]\n",
      "y_test : [1 1 1 0]\n",
      "y_pred : [1 1 0 1]\n"
     ]
    }
   ],
   "source": [
    "# Evaluasi tingkat akurasi model\n",
    "x_test = np.array(lbEncode.fit_transform(\n",
    "    [\"Electronic\", \"Coca Cola/Pepsi\", \"Pop\", \"Other\", \n",
    "     \"Rock\", \"7UP/Sprite\", \"Rock\", \"Coca Cola/Pepsi\"]\n",
    ")).reshape(-1, 2)\n",
    "\n",
    "y_test = lbz.transform(\n",
    "    np.array(\n",
    "        [\"M\", \"M\", \"M\", \"F\"]\n",
    "    )\n",
    ").flatten()\n",
    "\n",
    "print(f\"x_test : {x_test}\\ny_test : {y_test}\")\n",
    "y_pred = model.predict(x_test)\n",
    "print(f\"y_pred : {y_pred}\")"
   ]
  },
  {
   "cell_type": "code",
   "execution_count": 111,
   "id": "b0c45a1a-71cd-4922-b38a-f63ec2fe8e5f",
   "metadata": {},
   "outputs": [
    {
     "name": "stdout",
     "output_type": "stream",
     "text": [
      "Classificaion report :\n",
      "              precision    recall  f1-score   support\n",
      "\n",
      "           0       0.00      0.00      0.00         1\n",
      "           1       0.67      0.67      0.67         3\n",
      "\n",
      "    accuracy                           0.50         4\n",
      "   macro avg       0.33      0.33      0.33         4\n",
      "weighted avg       0.50      0.50      0.50         4\n",
      "\n"
     ]
    }
   ],
   "source": [
    "'''\n",
    "Teknik yang paling di rekomendasikan untuk evalusai model\n",
    "Evalusai model menggunakan classificasion report\n",
    "dari sklearn.metrics\n",
    "yang biasanya di gunakan untuk melihat ke 4 score di atas\n",
    "di kolom pertama ada 0 dan satu yang mendefinisikan score dari mines=0, dan positif=1\n",
    "'''\n",
    "clss_report = metrics.classification_report(y_test, y_pred)\n",
    "print(f\"Classificaion report :\\n{clss_report}\")"
   ]
  },
  {
   "cell_type": "code",
   "execution_count": null,
   "id": "3e8a8187-e37d-4873-b0c7-1b29add72c1b",
   "metadata": {},
   "outputs": [],
   "source": []
  }
 ],
 "metadata": {
  "kernelspec": {
   "display_name": "Python 3",
   "language": "python",
   "name": "python3"
  },
  "language_info": {
   "codemirror_mode": {
    "name": "ipython",
    "version": 3
   },
   "file_extension": ".py",
   "mimetype": "text/x-python",
   "name": "python",
   "nbconvert_exporter": "python",
   "pygments_lexer": "ipython3",
   "version": "3.8.10"
  }
 },
 "nbformat": 4,
 "nbformat_minor": 5
}
