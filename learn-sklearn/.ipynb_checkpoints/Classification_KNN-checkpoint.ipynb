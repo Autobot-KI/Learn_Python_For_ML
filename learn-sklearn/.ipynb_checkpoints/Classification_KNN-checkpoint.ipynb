{
 "cells": [
  {
   "cell_type": "code",
   "execution_count": 82,
   "id": "4348bd98-5ed4-4861-841b-ca073a7ca351",
   "metadata": {},
   "outputs": [
    {
     "data": {
      "text/html": [
       "<div>\n",
       "<style scoped>\n",
       "    .dataframe tbody tr th:only-of-type {\n",
       "        vertical-align: middle;\n",
       "    }\n",
       "\n",
       "    .dataframe tbody tr th {\n",
       "        vertical-align: top;\n",
       "    }\n",
       "\n",
       "    .dataframe thead th {\n",
       "        text-align: right;\n",
       "    }\n",
       "</style>\n",
       "<table border=\"1\" class=\"dataframe\">\n",
       "  <thead>\n",
       "    <tr style=\"text-align: right;\">\n",
       "      <th></th>\n",
       "      <th>tinggi</th>\n",
       "      <th>berat</th>\n",
       "      <th>gender</th>\n",
       "    </tr>\n",
       "  </thead>\n",
       "  <tbody>\n",
       "    <tr>\n",
       "      <th>0</th>\n",
       "      <td>158</td>\n",
       "      <td>64</td>\n",
       "      <td>pria</td>\n",
       "    </tr>\n",
       "    <tr>\n",
       "      <th>1</th>\n",
       "      <td>170</td>\n",
       "      <td>86</td>\n",
       "      <td>pria</td>\n",
       "    </tr>\n",
       "    <tr>\n",
       "      <th>2</th>\n",
       "      <td>183</td>\n",
       "      <td>84</td>\n",
       "      <td>pria</td>\n",
       "    </tr>\n",
       "    <tr>\n",
       "      <th>3</th>\n",
       "      <td>191</td>\n",
       "      <td>80</td>\n",
       "      <td>pria</td>\n",
       "    </tr>\n",
       "    <tr>\n",
       "      <th>4</th>\n",
       "      <td>155</td>\n",
       "      <td>49</td>\n",
       "      <td>wanita</td>\n",
       "    </tr>\n",
       "    <tr>\n",
       "      <th>5</th>\n",
       "      <td>163</td>\n",
       "      <td>59</td>\n",
       "      <td>wanita</td>\n",
       "    </tr>\n",
       "    <tr>\n",
       "      <th>6</th>\n",
       "      <td>180</td>\n",
       "      <td>67</td>\n",
       "      <td>wanita</td>\n",
       "    </tr>\n",
       "    <tr>\n",
       "      <th>7</th>\n",
       "      <td>158</td>\n",
       "      <td>54</td>\n",
       "      <td>wanita</td>\n",
       "    </tr>\n",
       "    <tr>\n",
       "      <th>8</th>\n",
       "      <td>178</td>\n",
       "      <td>67</td>\n",
       "      <td>wanita</td>\n",
       "    </tr>\n",
       "  </tbody>\n",
       "</table>\n",
       "</div>"
      ],
      "text/plain": [
       "   tinggi  berat  gender\n",
       "0     158     64    pria\n",
       "1     170     86    pria\n",
       "2     183     84    pria\n",
       "3     191     80    pria\n",
       "4     155     49  wanita\n",
       "5     163     59  wanita\n",
       "6     180     67  wanita\n",
       "7     158     54  wanita\n",
       "8     178     67  wanita"
      ]
     },
     "execution_count": 82,
     "metadata": {},
     "output_type": "execute_result"
    }
   ],
   "source": [
    "# preprocessing lib\n",
    "from sklearn.preprocessing import LabelBinarizer\n",
    "# Class training KNN\n",
    "from sklearn.neighbors import KNeighborsClassifier\n",
    "# Evaluasi model\n",
    "from sklearn import metrics\n",
    "# visal, create data\n",
    "import matplotlib.pyplot as plt\n",
    "import numpy as np\n",
    "import pandas as pd\n",
    "\n",
    "# membuat data sensus penduduk\n",
    "sensus = {\n",
    "    \"tinggi\": [158, 170, 183, 191, 155, 163, 180, 158, 178], \n",
    "    \"berat\": [64, 86, 84, 80, 49, 59, 67, 54, 67], \n",
    "    \"gender\": [\n",
    "        \"pria\", \"pria\", \"pria\", \"pria\", \"wanita\", \n",
    "        \"wanita\", \"wanita\", \"wanita\", \"wanita\"\n",
    "    ]\n",
    "}\n",
    "\n",
    "# Ubah data sensus ke dalm bntuk pd dataframe\n",
    "sensus_df = pd.DataFrame(sensus)\n",
    "sensus_df"
   ]
  },
  {
   "cell_type": "code",
   "execution_count": 83,
   "id": "ae56ad12-c51a-4220-8afa-24ba1e717994",
   "metadata": {},
   "outputs": [
    {
     "data": {
      "image/png": "[encoded data removed]",
      "text/plain": [
       "<Figure size 432x288 with 1 Axes>"
      ]
     },
     "metadata": {
      "needs_background": "light"
     },
     "output_type": "display_data"
    }
   ],
   "source": [
    "# Visaualisasi df sensus\n",
    "fig, ax = plt.subplots()\n",
    "[ax.scatter(d[\"tinggi\"], d[\"berat\"], label=gend) for gend, d in sensus_df.groupby(\"gender\")]\n",
    "plt.legend(loc=\"upper left\")\n",
    "plt.title(\"Visualisasi data sensus, tinggi, berat, gender\")\n",
    "plt.xlabel(\"Tinggi badan (cm)\")\n",
    "plt.ylabel(\"Berat badan (kg)\")\n",
    "plt.grid(True)\n",
    "plt.show()"
   ]
  },
  {
   "cell_type": "code",
   "execution_count": 84,
   "id": "49ca1357-44da-442b-ba7f-4a86950941dc",
   "metadata": {},
   "outputs": [
    {
     "name": "stdout",
     "output_type": "stream",
     "text": [
      "x_train : [[158  64]\n",
      " [170  86]\n",
      " [183  84]\n",
      " [191  80]\n",
      " [155  49]\n",
      " [163  59]\n",
      " [180  67]\n",
      " [158  54]\n",
      " [178  67]]\n",
      "y_train : ['pria' 'pria' 'pria' 'pria' 'wanita' 'wanita' 'wanita' 'wanita' 'wanita']\n",
      "Hasil konversi gender ke integer :\n",
      "[0 0 0 0 1 1 1 1 1]\n"
     ]
    }
   ],
   "source": [
    "# Preprocessing dataset\n",
    "x_train = np.array(sensus_df[[\"tinggi\", \"berat\"]])\n",
    "y_train = np.array(sensus_df[\"gender\"])\n",
    "print(f\"x_train : {x_train}\\ny_train : {y_train}\")\n",
    "\n",
    "# Konversi gender ke integer menggunakan LabelBinarizer\n",
    "lbz = LabelBinarizer()\n",
    "y_train = lbz.fit_transform(y_train)\n",
    "# karena hasil konversi array 2D hrus di flat dulu biar jadi 1D\n",
    "y_train = y_train.flatten()\n",
    "print(f\"Hasil konversi gender ke integer :\\n{y_train}\")"
   ]
  },
  {
   "cell_type": "code",
   "execution_count": 85,
   "id": "e619be11-5b5e-436b-b4a0-1fbef24830cd",
   "metadata": {},
   "outputs": [
    {
     "data": {
      "text/plain": [
       "KNeighborsClassifier(n_neighbors=3)"
      ]
     },
     "execution_count": 85,
     "metadata": {},
     "output_type": "execute_result"
    }
   ],
   "source": [
    "# Training KNN Classification Model\n",
    "# nilai k untuk jumlah tetangga terdekat yang akan di libatkan untuk proses prediksi\n",
    "k = 3\n",
    "model = KNeighborsClassifier(n_neighbors=k)\n",
    "model.fit(x_train, y_train)"
   ]
  },
  {
   "cell_type": "code",
   "execution_count": 86,
   "id": "eb97f15b-8cdc-4b83-800a-b4079076a83b",
   "metadata": {},
   "outputs": [
    {
     "data": {
      "text/plain": [
       "array([[180,  60]])"
      ]
     },
     "execution_count": 86,
     "metadata": {},
     "output_type": "execute_result"
    }
   ],
   "source": [
    "# predilksi gender\n",
    "tinggi_badan = 180\n",
    "berat_badan = 60\n",
    "x_new = np.array([tinggi_badan, berat_badan]).reshape(1, -1)\n",
    "x_new"
   ]
  },
  {
   "cell_type": "code",
   "execution_count": 87,
   "id": "5fdb263c-78da-4ac0-9a44-e2babe429e98",
   "metadata": {},
   "outputs": [
    {
     "data": {
      "text/plain": [
       "array([1])"
      ]
     },
     "execution_count": 87,
     "metadata": {},
     "output_type": "execute_result"
    }
   ],
   "source": [
    "y_new = model.predict(x_new)\n",
    "y_new"
   ]
  },
  {
   "cell_type": "code",
   "execution_count": 88,
   "id": "852885f5-e53f-4f62-8aca-a1c8e2891b84",
   "metadata": {},
   "outputs": [
    {
     "data": {
      "text/plain": [
       "array(['wanita'], dtype='<U6')"
      ]
     },
     "execution_count": 88,
     "metadata": {},
     "output_type": "execute_result"
    }
   ],
   "source": [
    "# karena value y_new adalah integer on array, maka harus di reverse ke bentuk gendernya\n",
    "# dengan cara manggil instance lbz dan method inverse_transform\n",
    "lbz.inverse_transform(y_new)"
   ]
  },
  {
   "cell_type": "code",
   "execution_count": 89,
   "id": "33cf5f00-3f65-44a9-aeb2-2cfaa77f85da",
   "metadata": {},
   "outputs": [
    {
     "data": {
      "image/png": "[encoded data removed]",
      "text/plain": [
       "<Figure size 432x288 with 1 Axes>"
      ]
     },
     "metadata": {
      "needs_background": "light"
     },
     "output_type": "display_data"
    },
    {
     "data": {
      "text/plain": [
       "'\\nBisa di lihat pada titik unknow adalah gender yg di prediksi\\ndan klau di lihat pada tetangga terdekatnya titik tersebut\\npaling dekat dengan 2 wanita, 1 pria, maknya model\\nmemprediksi bahwa gender ny wanita\\n'"
      ]
     },
     "execution_count": 89,
     "metadata": {},
     "output_type": "execute_result"
    }
   ],
   "source": [
    "# Visualisasi Nearest Neighbours\n",
    "fig, ax = plt.subplots()\n",
    "[ax.scatter(d[\"tinggi\"], d[\"berat\"], label=gend) for gend, d in sensus_df.groupby(\"gender\")]\n",
    "plt.scatter(\n",
    "    tinggi_badan,\n",
    "    berat_badan, \n",
    "    marker='s', \n",
    "    color='red',\n",
    "    label='unknow'\n",
    ")\n",
    "plt.legend(loc=\"upper left\")\n",
    "plt.title(\"Visualisasi data sensus, tinggi, berat, gender\")\n",
    "plt.xlabel('Tinggi badan (cm)')\n",
    "plt.ylabel('Berat badan (kg)')\n",
    "plt.grid(True)\n",
    "plt.show()\n",
    "'''\n",
    "Bisa di lihat pada titik unknow adalah gender yg di prediksi\n",
    "dan klau di lihat pada tetangga terdekatnya titik tersebut\n",
    "paling dekat dengan 2 wanita, 1 pria, maknya model\n",
    "memprediksi bahwa gender ny wanita\n",
    "'''"
   ]
  },
  {
   "cell_type": "code",
   "execution_count": 90,
   "id": "eec76406-4e68-415f-988d-26e35f2edab4",
   "metadata": {},
   "outputs": [
    {
     "name": "stdout",
     "output_type": "stream",
     "text": [
      "x_test :\n",
      "[[168  65]\n",
      " [180  96]\n",
      " [160  62]\n",
      " [169  67]]\n",
      "y_test :\n",
      "[0 0 1 1]\n"
     ]
    }
   ],
   "source": [
    "# Melihat akurasi model\n",
    "# inget sklearn perlu fiture array 2 dimanesi\n",
    "x_test = np.array(\n",
    "     [\n",
    "         [168, 65], [180, 96], [160, 62], [169, 67]\n",
    "     ]\n",
    ")\n",
    "# method transform udah ada penjelasan ny di atas tentang preprocessing\n",
    "# untuk target perlu array 1 dimensi\n",
    "y_test = lbz.transform(\n",
    "    np.array(\n",
    "        [\"pria\", \"pria\", \"wanita\", \"wanita\"]\n",
    "    )\n",
    ").flatten()\n",
    "print(f\"x_test :\\n{x_test}\\ny_test :\\n{y_test}\")"
   ]
  },
  {
   "cell_type": "code",
   "execution_count": 91,
   "id": "b9d12e7e-5e8d-4342-8cb8-5231df483223",
   "metadata": {},
   "outputs": [
    {
     "name": "stdout",
     "output_type": "stream",
     "text": [
      "y_pred : [1 0 1 1]\n"
     ]
    }
   ],
   "source": [
    "y_pred = model.predict(x_test)\n",
    "print(f\"y_pred : {y_pred}\")"
   ]
  },
  {
   "cell_type": "code",
   "execution_count": 92,
   "id": "8ea1f52f-a1a0-4bb4-9107-6c7dcfd140b5",
   "metadata": {},
   "outputs": [
    {
     "name": "stdout",
     "output_type": "stream",
     "text": [
      "Akurasi model : 75.0%\n"
     ]
    }
   ],
   "source": [
    "'''\n",
    "karena hasil y_pred adalah array yg berisi hasil prediksi dari fiture\n",
    "maka y_pred harus di bandingkan dengan target yaitu y_test dengan menggunakan\n",
    "accuracy_score dari sklearn.metrics\n",
    "'''\n",
    "accuracy = metrics.accuracy_score(y_test, y_pred)\n",
    "print(f\"Akurasi model : {accuracy*100}%\")"
   ]
  },
  {
   "cell_type": "code",
   "execution_count": 96,
   "id": "0f920d38-eda3-4fdd-8727-e5a1d1b9addf",
   "metadata": {},
   "outputs": [
    {
     "name": "stdout",
     "output_type": "stream",
     "text": [
      "Presisi model : 66.66666666666666%\n"
     ]
    }
   ],
   "source": [
    "'''\n",
    "Evalusai model menggunakan precision_score\n",
    "dari sklearn.metrics\n",
    "yang biasanya di gunakan untuk menghitung presisi\n",
    "'''\n",
    "precision = metrics.precision_score(y_test, y_pred)\n",
    "print(f\"Presisi model : {precision*100}%\")"
   ]
  },
  {
   "cell_type": "code",
   "execution_count": 97,
   "id": "18fd039d-901a-4790-abdd-3b90659cca16",
   "metadata": {},
   "outputs": [
    {
     "name": "stdout",
     "output_type": "stream",
     "text": [
      "Recall model : 100.0%\n"
     ]
    }
   ],
   "source": [
    "'''\n",
    "Evalusai model menggunakan recall_score\n",
    "dari sklearn.metrics\n",
    "yang biasanya di gunakan untuk menghitung presisi\n",
    "'''\n",
    "recall = metrics.recall_score(y_test, y_pred)\n",
    "print(f\"Recall model : {recall*100}%\")"
   ]
  },
  {
   "cell_type": "code",
   "execution_count": 98,
   "id": "09dff47b-cffa-4ded-bcff-5466d839531d",
   "metadata": {},
   "outputs": [
    {
     "name": "stdout",
     "output_type": "stream",
     "text": [
      "f1 Score : 80.0%\n"
     ]
    }
   ],
   "source": [
    "'''\n",
    "Evalusai model menggunakan f1_score\n",
    "dari sklearn.metrics\n",
    "yang biasanya di gunakan untuk menghitung nilai rata rata harmonic\n",
    "'''\n",
    "f1 = metrics.f1_score(y_test, y_pred)\n",
    "print(f\"f1 Score : {f1*100}%\")"
   ]
  },
  {
   "cell_type": "code",
   "execution_count": 100,
   "id": "a58b2063-bd94-40d1-8ab1-e515f628e5cb",
   "metadata": {},
   "outputs": [
    {
     "name": "stdout",
     "output_type": "stream",
     "text": [
      "Classificaion report :\n",
      "              precision    recall  f1-score   support\n",
      "\n",
      "           0       1.00      0.50      0.67         2\n",
      "           1       0.67      1.00      0.80         2\n",
      "\n",
      "    accuracy                           0.75         4\n",
      "   macro avg       0.83      0.75      0.73         4\n",
      "weighted avg       0.83      0.75      0.73         4\n",
      "\n"
     ]
    }
   ],
   "source": [
    "'''\n",
    "Teknik yang paling di rekomendasikan untuk evalusai model\n",
    "Evalusai model menggunakan classificasion report\n",
    "dari sklearn.metrics\n",
    "yang biasanya di gunakan untuk melihat ke 4 score di atas\n",
    "di kolom pertama ada 0 dan satu yang mendefinisikan score dari mines=0, dan positif=1\n",
    "'''\n",
    "clss_report = metrics.classification_report(y_test, y_pred)\n",
    "print(f\"Classificaion report :\\n{clss_report}\")"
   ]
  },
  {
   "cell_type": "code",
   "execution_count": 103,
   "id": "5c37d977-6ba0-4929-818c-cb2cfe964997",
   "metadata": {},
   "outputs": [
    {
     "name": "stdout",
     "output_type": "stream",
     "text": [
      "MCC : 57.73502691896258%\n"
     ]
    }
   ],
   "source": [
    "'''\n",
    "Evalusai model menggunakan Correlation Coefficient\n",
    "dari sklearn.metrics\n",
    "yang biasanya di gunakan untuk alternatif f1 score\n",
    "result -1=model buruk 1=model terbaik\n",
    "'''\n",
    "mcc = metrics.matthews_corrcoef(y_test, y_pred)\n",
    "print(f\"MCC : {mcc*100}%\")"
   ]
  },
  {
   "cell_type": "code",
   "execution_count": null,
   "id": "f483ebc2-7078-4f32-9c91-1fb443ddc324",
   "metadata": {},
   "outputs": [],
   "source": []
  }
 ],
 "metadata": {
  "kernelspec": {
   "display_name": "Python 3",
   "language": "python",
   "name": "python3"
  },
  "language_info": {
   "codemirror_mode": {
    "name": "ipython",
    "version": 3
   },
   "file_extension": ".py",
   "mimetype": "text/x-python",
   "name": "python",
   "nbconvert_exporter": "python",
   "pygments_lexer": "ipython3",
   "version": "3.8.10"
  }
 },
 "nbformat": 4,
 "nbformat_minor": 5
}
