{
 "cells": [
  {
   "cell_type": "code",
   "execution_count": 3,
   "id": "00d11c8a-0d0b-4dfa-9bf4-5dc9adea0762",
   "metadata": {},
   "outputs": [],
   "source": [
    "# for generate, preprocessing data\n",
    "import numpy as np\n",
    "from sklearn import preprocessing"
   ]
  },
  {
   "cell_type": "code",
   "execution_count": 7,
   "id": "993c1aca-2b45-4e62-a92b-fabfe7a3d444",
   "metadata": {},
   "outputs": [],
   "source": [
    "# Create sample data\n",
    "# Use array 2 dimensi\n",
    "sample_data = np.array(\n",
    "    [[2.1, -1.9, 5.5],\n",
    "    [-1.5, 2.4, 3.5],\n",
    "    [0.5, -7.9, 5.6],\n",
    "    [5.9, 2.3, -5.8]]\n",
    ")"
   ]
  },
  {
   "cell_type": "code",
   "execution_count": 13,
   "id": "c54a1381-1f42-44f3-b868-a2cf1f08120a",
   "metadata": {},
   "outputs": [
    {
     "name": "stdout",
     "output_type": "stream",
     "text": [
      "Dataset : \n",
      " [[ 2.1 -1.9  5.5]\n",
      " [-1.5  2.4  3.5]\n",
      " [ 0.5 -7.9  5.6]\n",
      " [ 5.9  2.3 -5.8]]\n",
      "Dimensi :  (4, 3)\n"
     ]
    }
   ],
   "source": [
    "print(\"Dataset : \\n\",sample_data)\n",
    "# untuk melihat dimensi\n",
    "print(\"Dimensi : \",sample_data.shape)"
   ]
  },
  {
   "cell_type": "code",
   "execution_count": 16,
   "id": "648d012e-bc78-47cf-b8a0-d03493ef0a55",
   "metadata": {},
   "outputs": [
    {
     "data": {
      "text/plain": [
       "array([[1., 0., 1.],\n",
       "       [0., 1., 1.],\n",
       "       [0., 0., 1.],\n",
       "       [1., 1., 0.]])"
      ]
     },
     "execution_count": 16,
     "metadata": {},
     "output_type": "execute_result"
    }
   ],
   "source": [
    "'''\n",
    "Binarisation. technic for data preprocessing\n",
    "parameter threshold untuk batasan.\n",
    "jika nilai lebih besar dari 0.5 maka akan jadi 1, dan sebaliknya\n",
    "'''\n",
    "preprocessor = preprocessing.Binarizer(threshold=0.5)\n",
    "# change value sample_data to binarisation\n",
    "binarised_data = preprocessor.transform(sample_data)\n",
    "binarised_data"
   ]
  },
  {
   "cell_type": "code",
   "execution_count": 19,
   "id": "ff3d79a6-8e39-4135-88ba-1c9286106cad",
   "metadata": {},
   "outputs": [
    {
     "data": {
      "text/plain": [
       "array([[0.48648649, 0.58252427, 0.99122807],\n",
       "       [0.        , 1.        , 0.81578947],\n",
       "       [0.27027027, 0.        , 1.        ],\n",
       "       [1.        , 0.99029126, 0.        ]])"
      ]
     },
     "execution_count": 19,
     "metadata": {},
     "output_type": "execute_result"
    }
   ],
   "source": [
    "'''\n",
    "Scaling. technic for data preprocessing\n",
    "Brtujuan untuk menghasilkan data numerik yg berada\n",
    "dlm skala tertentu\n",
    "parameter feature_range di berikan value data tuple,\n",
    "index pertama adalah skala terkecil, index kedua skala terbesar\n",
    "Note : inget pljaran skala pas sd kelas 6:)\n",
    "'''\n",
    "preprocessor = preprocessing.MinMaxScaler(feature_range=(0, 1))\n",
    "scaled_data = preprocessor.fit_transform(sample_data)\n",
    "scaled_data"
   ]
  },
  {
   "cell_type": "code",
   "execution_count": 22,
   "id": "8ecb8990-782f-4b44-ae69-21e4b3627775",
   "metadata": {},
   "outputs": [
    {
     "name": "stdout",
     "output_type": "stream",
     "text": [
      "l1\n",
      " [[ 0.22105263 -0.2         0.57894737]\n",
      " [-0.2027027   0.32432432  0.47297297]\n",
      " [ 0.03571429 -0.56428571  0.4       ]\n",
      " [ 0.42142857  0.16428571 -0.41428571]]\n",
      "l2\n",
      " [[ 0.33946114 -0.30713151  0.88906489]\n",
      " [-0.33325106  0.53320169  0.7775858 ]\n",
      " [ 0.05156558 -0.81473612  0.57753446]\n",
      " [ 0.68706914  0.26784051 -0.6754239 ]]\n"
     ]
    }
   ],
   "source": [
    "'''\n",
    "Normalisation.  technic for data preprocessing\n",
    "Bertujuan untuk normalisasi terhadap data numerik\n",
    "parameter pertama di berikan value data yg akan di\n",
    "normalisasi, parameter kedua di beri value string l1\n",
    "yang akan menerapkan list absolute definiton\n",
    "'''\n",
    "# Contoh normalisasi l1\n",
    "l1_normalize_data = preprocessing.normalize(sample_data, norm='l1')\n",
    "# Contoh normalisasi l2\n",
    "l2_normalize_data = preprocessing.normalize(sample_data, norm='l2')\n",
    "print(\"l1\\n\",l1_normalize_data)\n",
    "print(\"l2\\n\",l2_normalize_data)"
   ]
  },
  {
   "cell_type": "code",
   "execution_count": null,
   "id": "8725bf14-bbfb-40c5-9b2b-09d9a6939b35",
   "metadata": {},
   "outputs": [],
   "source": []
  }
 ],
 "metadata": {
  "kernelspec": {
   "display_name": "Python 3",
   "language": "python",
   "name": "python3"
  },
  "language_info": {
   "codemirror_mode": {
    "name": "ipython",
    "version": 3
   },
   "file_extension": ".py",
   "mimetype": "text/x-python",
   "name": "python",
   "nbconvert_exporter": "python",
   "pygments_lexer": "ipython3",
   "version": "3.8.10"
  }
 },
 "nbformat": 4,
 "nbformat_minor": 5
}
