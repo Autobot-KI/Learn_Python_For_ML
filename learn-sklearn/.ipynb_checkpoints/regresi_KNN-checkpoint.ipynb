{
 "cells": [
  {
   "cell_type": "code",
   "execution_count": 8,
   "id": "7f735aee-e9f5-4b2a-b703-9bf6c26795b8",
   "metadata": {},
   "outputs": [
    {
     "data": {
      "text/html": [
       "<div>\n",
       "<style scoped>\n",
       "    .dataframe tbody tr th:only-of-type {\n",
       "        vertical-align: middle;\n",
       "    }\n",
       "\n",
       "    .dataframe tbody tr th {\n",
       "        vertical-align: top;\n",
       "    }\n",
       "\n",
       "    .dataframe thead th {\n",
       "        text-align: right;\n",
       "    }\n",
       "</style>\n",
       "<table border=\"1\" class=\"dataframe\">\n",
       "  <thead>\n",
       "    <tr style=\"text-align: right;\">\n",
       "      <th></th>\n",
       "      <th>tinggi</th>\n",
       "      <th>gender</th>\n",
       "      <th>berat</th>\n",
       "    </tr>\n",
       "  </thead>\n",
       "  <tbody>\n",
       "    <tr>\n",
       "      <th>0</th>\n",
       "      <td>158</td>\n",
       "      <td>pria</td>\n",
       "      <td>64</td>\n",
       "    </tr>\n",
       "    <tr>\n",
       "      <th>1</th>\n",
       "      <td>170</td>\n",
       "      <td>pria</td>\n",
       "      <td>86</td>\n",
       "    </tr>\n",
       "    <tr>\n",
       "      <th>2</th>\n",
       "      <td>183</td>\n",
       "      <td>pria</td>\n",
       "      <td>84</td>\n",
       "    </tr>\n",
       "    <tr>\n",
       "      <th>3</th>\n",
       "      <td>191</td>\n",
       "      <td>pria</td>\n",
       "      <td>80</td>\n",
       "    </tr>\n",
       "    <tr>\n",
       "      <th>4</th>\n",
       "      <td>155</td>\n",
       "      <td>wanita</td>\n",
       "      <td>49</td>\n",
       "    </tr>\n",
       "    <tr>\n",
       "      <th>5</th>\n",
       "      <td>163</td>\n",
       "      <td>wanita</td>\n",
       "      <td>59</td>\n",
       "    </tr>\n",
       "    <tr>\n",
       "      <th>6</th>\n",
       "      <td>180</td>\n",
       "      <td>wanita</td>\n",
       "      <td>67</td>\n",
       "    </tr>\n",
       "    <tr>\n",
       "      <th>7</th>\n",
       "      <td>158</td>\n",
       "      <td>wanita</td>\n",
       "      <td>54</td>\n",
       "    </tr>\n",
       "    <tr>\n",
       "      <th>8</th>\n",
       "      <td>170</td>\n",
       "      <td>wanita</td>\n",
       "      <td>67</td>\n",
       "    </tr>\n",
       "  </tbody>\n",
       "</table>\n",
       "</div>"
      ],
      "text/plain": [
       "   tinggi  gender  berat\n",
       "0     158    pria     64\n",
       "1     170    pria     86\n",
       "2     183    pria     84\n",
       "3     191    pria     80\n",
       "4     155  wanita     49\n",
       "5     163  wanita     59\n",
       "6     180  wanita     67\n",
       "7     158  wanita     54\n",
       "8     170  wanita     67"
      ]
     },
     "execution_count": 8,
     "metadata": {},
     "output_type": "execute_result"
    }
   ],
   "source": [
    "import numpy as np\n",
    "import pandas as pd\n",
    "from sklearn.preprocessing import LabelBinarizer\n",
    "from sklearn.neighbors import KNeighborsRegressor\n",
    "\n",
    "sensus = {\n",
    "    \"tinggi\": [158, 170, 183, 191, 155, 163, 180, 158, 170],\n",
    "    \"gender\": [\"pria\", \"pria\", \"pria\", \"pria\", \"wanita\", \"wanita\", \"wanita\", \"wanita\", \"wanita\"], \n",
    "    \"berat\": [64, 86, 84, 80, 49, 59, 67, 54, 67]\n",
    "}\n",
    "\n",
    "sensus_df = pd.DataFrame(sensus)\n",
    "sensus_df"
   ]
  },
  {
   "cell_type": "code",
   "execution_count": 9,
   "id": "c2c530be-2d98-4c22-8991-e4d13d9e6a19",
   "metadata": {},
   "outputs": [
    {
     "name": "stdout",
     "output_type": "stream",
     "text": [
      "x_train [[158 'pria']\n",
      " [170 'pria']\n",
      " [183 'pria']\n",
      " [191 'pria']\n",
      " [155 'wanita']\n",
      " [163 'wanita']\n",
      " [180 'wanita']\n",
      " [158 'wanita']\n",
      " [170 'wanita']]\n",
      "y_train [64 86 84 80 49 59 67 54 67]\n"
     ]
    }
   ],
   "source": [
    "x_train = np.array(sensus_df[[\"tinggi\", \"gender\"]])\n",
    "y_train = np.array(sensus_df[\"berat\"])\n",
    "print(f\"x_train {x_train}\")\n",
    "print(f\"y_train {y_train}\")"
   ]
  },
  {
   "cell_type": "code",
   "execution_count": 10,
   "id": "10f6e0b5-4591-44b8-88e5-6419114a0366",
   "metadata": {},
   "outputs": [
    {
     "data": {
      "text/plain": [
       "array([[158, 170, 183, 191, 155, 163, 180, 158, 170],\n",
       "       ['pria', 'pria', 'pria', 'pria', 'wanita', 'wanita', 'wanita',\n",
       "        'wanita', 'wanita']], dtype=object)"
      ]
     },
     "execution_count": 10,
     "metadata": {},
     "output_type": "execute_result"
    }
   ],
   "source": [
    "x_train_transposed = np.transpose(x_train)\n",
    "x_train_transposed"
   ]
  },
  {
   "cell_type": "code",
   "execution_count": 11,
   "id": "e8d805b4-4af2-46a1-ac45-ffb9061629ca",
   "metadata": {},
   "outputs": [
    {
     "data": {
      "text/plain": [
       "array([[158, 170, 183, 191, 155, 163, 180, 158, 170],\n",
       "       [0, 0, 0, 0, 1, 1, 1, 1, 1]], dtype=object)"
      ]
     },
     "execution_count": 11,
     "metadata": {},
     "output_type": "execute_result"
    }
   ],
   "source": [
    "lb = LabelBinarizer()\n",
    "gend_binarised = lb.fit_transform(x_train_transposed[1])\n",
    "# hasil konversi adalah array 2 d jadi hrus di kembaikan ke 1 D\n",
    "gend_binarised = gend_binarised.flatten()\n",
    "# ganti nilai data gend ke hasil konversi lb\n",
    "x_train_transposed[1] = gend_binarised\n",
    "x_train_transposed"
   ]
  },
  {
   "cell_type": "code",
   "execution_count": null,
   "id": "a4d4fb03-a9ff-436c-9ff4-3f4db709d99d",
   "metadata": {},
   "outputs": [],
   "source": [
    "k = 3\n",
    "model = KNeighborsRegressor(n_neighbors=k)\n",
    "model.fit(x_train, y_train)"
   ]
  }
 ],
 "metadata": {
  "kernelspec": {
   "display_name": "Python 3",
   "language": "python",
   "name": "python3"
  },
  "language_info": {
   "codemirror_mode": {
    "name": "ipython",
    "version": 3
   },
   "file_extension": ".py",
   "mimetype": "text/x-python",
   "name": "python",
   "nbconvert_exporter": "python",
   "pygments_lexer": "ipython3",
   "version": "3.8.10"
  }
 },
 "nbformat": 4,
 "nbformat_minor": 5
}
