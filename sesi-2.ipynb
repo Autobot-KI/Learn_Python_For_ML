{
 "cells": [
  {
   "cell_type": "code",
   "execution_count": 15,
   "id": "1dfbdb23-ab2e-43e5-b649-cdb0cab11e85",
   "metadata": {},
   "outputs": [
    {
     "name": "stdout",
     "output_type": "stream",
     "text": [
      "['Iris-setosa']\n"
     ]
    }
   ],
   "source": [
    "import pandas as pd\n",
    "from sklearn.tree import DecisionTreeClassifier, export_graphviz\n",
    "\n",
    "# Sample for predict data\n",
    "sepalLen = 4.0\n",
    "sepalWidth = 2.9\n",
    "petalLen = 1.0\n",
    "petalWidth = 2.5\n",
    "\n",
    "\n",
    "\n",
    "data = pd.read_csv('datasets-1/Iris.csv')\n",
    "data.drop('Id', axis=1, inplace=True)\n",
    "x = data[[\"SepalLengthCm\", \"SepalWidthCm\", \"PetalLengthCm\", \"PetalWidthCm\"]]\n",
    "y = data[\"Species\"]\n",
    "model = DecisionTreeClassifier()\n",
    "model.fit(x, y)\n",
    "\n",
    "print(model.predict([[sepalLen, sepalWidth, petalLen, petalWidth]]))\n",
    "\n",
    "export_graphviz(\n",
    "    model,\n",
    "    out_file = \"iris_visual_tree.dot\",\n",
    "    feature_names = ['SepalLengthCm', 'SepalWidthCm', 'PetalLengthCm', 'PetalWidthCm'],\n",
    "    class_names = ['Iris-setosa', 'Iris-versicolor', 'Iris-virginica' ],\n",
    "    rounded= True,\n",
    "    filled =True\n",
    ")"
   ]
  },
  {
   "cell_type": "code",
   "execution_count": null,
   "id": "4f08257d-79de-4f8b-b2a1-67038a44995b",
   "metadata": {},
   "outputs": [],
   "source": []
  }
 ],
 "metadata": {
  "kernelspec": {
   "display_name": "Python 3",
   "language": "python",
   "name": "python3"
  },
  "language_info": {
   "codemirror_mode": {
    "name": "ipython",
    "version": 3
   },
   "file_extension": ".py",
   "mimetype": "text/x-python",
   "name": "python",
   "nbconvert_exporter": "python",
   "pygments_lexer": "ipython3",
   "version": "3.8.5"
  }
 },
 "nbformat": 4,
 "nbformat_minor": 5
}
